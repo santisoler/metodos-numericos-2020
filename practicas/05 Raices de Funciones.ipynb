{
 "cells": [
  {
   "cell_type": "markdown",
   "metadata": {},
   "source": [
    "# Práctico 5: Raíces de Funciones\n",
    "\n",
    "En este notebook resolveremos el quinto práctico enfocado en la obtención de raíces de funciones.\n",
    "\n",
    "El objetivo es obtener la raíz de la función\n",
    "\n",
    "$$ f(x) = (5x^2 + 3x - 2) \\cos\\left(\\frac{x}{2\\pi}\\right) e^{x} $$\n",
    "\n",
    "en el intervalo $x \\in (0, 1)$ a través de los siguientes métodos:\n",
    "\n",
    "- bisección,\n",
    "- secante,\n",
    "- Newton-Raphson.\n",
    "\n",
    "La raíz de la función puede calcularse analíticamente: se halla en $x = 0.4$."
   ]
  },
  {
   "cell_type": "markdown",
   "metadata": {},
   "source": [
    "Importamos librerías necesarias"
   ]
  },
  {
   "cell_type": "code",
   "execution_count": 1,
   "metadata": {},
   "outputs": [],
   "source": [
    "import numpy as np\n",
    "import sympy as sym\n",
    "import matplotlib.pyplot as plt\n",
    "from scipy.optimize import bisect, newton"
   ]
  },
  {
   "cell_type": "markdown",
   "metadata": {},
   "source": [
    "Definimos la función a analizar"
   ]
  },
  {
   "cell_type": "code",
   "execution_count": 2,
   "metadata": {},
   "outputs": [],
   "source": [
    "def f(x):\n",
    "    return (5 * x ** 2 + 3 * x - 2) * np.cos(x / 2 / np.pi) * np.exp(x)"
   ]
  },
  {
   "cell_type": "code",
   "execution_count": 3,
   "metadata": {},
   "outputs": [
    {
     "data": {
      "image/png": "[encoded data removed]",
      "text/plain": [
       "<Figure size 432x288 with 1 Axes>"
      ]
     },
     "metadata": {
      "needs_background": "light"
     },
     "output_type": "display_data"
    }
   ],
   "source": [
    "x = np.linspace(0, 1, 51)\n",
    "plt.plot(x, f(x))\n",
    "plt.grid()\n",
    "plt.show()"
   ]
  },
  {
   "cell_type": "markdown",
   "metadata": {},
   "source": [
    "## Bisección\n",
    "\n",
    "Aplicamos el método de la bisección a través de la función `scipy.optimize.bisect`.\n",
    "Pasamos como argumentos los límites del intervalo 0 y 1."
   ]
  },
  {
   "cell_type": "code",
   "execution_count": 4,
   "metadata": {},
   "outputs": [
    {
     "name": "stdout",
     "output_type": "stream",
     "text": [
      "Raíz de f(x) con el método de la bisección: 0.3999999999996362\n"
     ]
    }
   ],
   "source": [
    "root = bisect(f, 0, 1)\n",
    "\n",
    "print(\"Raíz de f(x) con el método de la bisección: {}\".format(root))"
   ]
  },
  {
   "cell_type": "markdown",
   "metadata": {},
   "source": [
    "## Secante\n",
    "\n",
    "Aplicamos el método de la secante a través de la función `scipy.optimize.newton`.\n",
    "El método se puede aplicar utilizando dicha función, pero sin pasarle la derivada como argumento.\n",
    "Pasamos como punto inicial $x = 0$."
   ]
  },
  {
   "cell_type": "code",
   "execution_count": 5,
   "metadata": {},
   "outputs": [
    {
     "name": "stdout",
     "output_type": "stream",
     "text": [
      "Raíz de f(x) con el método de la secante: 0.39999999999993224\n"
     ]
    }
   ],
   "source": [
    "root = newton(f, x0=0)\n",
    "\n",
    "print(\"Raíz de f(x) con el método de la secante: {}\".format(root))"
   ]
  },
  {
   "cell_type": "markdown",
   "metadata": {},
   "source": [
    "## Newton-Raphson"
   ]
  },
  {
   "cell_type": "markdown",
   "metadata": {},
   "source": [
    "Para aplicar el método de Newton-Raphson es necesario obtener la derivada de la función. Podemos obtenerla derivando simbolicamente la función a través de SymPy:"
   ]
  },
  {
   "cell_type": "code",
   "execution_count": 6,
   "metadata": {},
   "outputs": [
    {
     "data": {
      "text/latex": [
       "$\\displaystyle \\frac{\\left(\\frac{\\left(- 5 x^{2} - 3 x + 2\\right) \\sin{\\left(\\frac{x}{2 \\pi} \\right)}}{2} + \\pi \\left(5 x^{2} + 13 x + 1\\right) \\cos{\\left(\\frac{x}{2 \\pi} \\right)}\\right) e^{x}}{\\pi}$"
      ],
      "text/plain": [
       "((-5*x**2 - 3*x + 2)*sin(x/(2*pi))/2 + pi*(5*x**2 + 13*x + 1)*cos(x/(2*pi)))*exp(x)/pi"
      ]
     },
     "execution_count": 6,
     "metadata": {},
     "output_type": "execute_result"
    }
   ],
   "source": [
    "x = sym.symbols(\"x\")\n",
    "diff = sym.diff((5 * x ** 2 + 3 * x - 2) * sym.cos(x / 2 / sym.pi) * sym.exp(x))\n",
    "sym.simplify(diff)"
   ]
  },
  {
   "cell_type": "markdown",
   "metadata": {},
   "source": [
    "Definimos una función que devuelva la derivada de $f(x)$"
   ]
  },
  {
   "cell_type": "code",
   "execution_count": 7,
   "metadata": {},
   "outputs": [],
   "source": [
    "def fprime(x):\n",
    "    return (\n",
    "        (5 * x ** 2 + 13 * x + 1) * np.cos(x / 2 / np.pi)\n",
    "        - (5 * x ** 2 + 3 * x - 2) * np.sin(x / 2 / np.pi) / 2 / np.pi\n",
    "        ) * np.exp(x)"
   ]
  },
  {
   "cell_type": "markdown",
   "metadata": {},
   "source": [
    "Aplicamos el método Newton-Raphson a través de la función `scipy.optimize.newton`, pero ahora sí pasamos la derivada como argumento:"
   ]
  },
  {
   "cell_type": "code",
   "execution_count": 8,
   "metadata": {},
   "outputs": [
    {
     "name": "stdout",
     "output_type": "stream",
     "text": [
      "Raíz de f(x) con el método Newton-Raphson: 0.4000000000000001\n"
     ]
    }
   ],
   "source": [
    "root = newton(f, x0=0, fprime=fprime)\n",
    "\n",
    "print(\"Raíz de f(x) con el método Newton-Raphson: {}\".format(root))"
   ]
  },
  {
   "cell_type": "markdown",
   "metadata": {},
   "source": [
    "## Conclusión\n",
    "\n",
    "Los tres métodos devuelven correctamente la raíz de la función propuesta."
   ]
  }
 ],
 "metadata": {
  "kernelspec": {
   "display_name": "Python 3",
   "language": "python",
   "name": "python3"
  },
  "language_info": {
   "codemirror_mode": {
    "name": "ipython",
    "version": 3
   },
   "file_extension": ".py",
   "mimetype": "text/x-python",
   "name": "python",
   "nbconvert_exporter": "python",
   "pygments_lexer": "ipython3",
   "version": "3.7.6"
  }
 },
 "nbformat": 4,
 "nbformat_minor": 4
}
