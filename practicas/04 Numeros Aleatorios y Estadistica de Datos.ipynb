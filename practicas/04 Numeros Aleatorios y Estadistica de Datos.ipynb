{
 "cells": [
  {
   "cell_type": "markdown",
   "metadata": {},
   "source": [
    "# Práctico 04: Números Aleatorios y Estadística de Datos\n",
    "\n",
    "En este notebook resolveremos el cuarto práctico enfocado en generación de números aleatorios y estadísticas de datos.\n",
    "\n",
    "1. En primer lugar, generaremos 1000 valores de una dada variable $x$ aleatoria con distribución uniforme.\n",
    "   Luego utilizaremos estos datos para evaluar la siguiente función:\n",
    "\n",
    "   $$ f(x) = \\arccos(1 - 2x) $$\n",
    "\n",
    "   y obtener un conjunto de valores que llamaremos $y$.\n",
    "\n",
    "2. En segundo lugar ordenaremos ambos conjuntos de valores en orden creciente y graficaremos histogramas para ambas distribuciones de valores.\n",
    "\n",
    "3. Finalmente calcularemos la media y la desviación estándar de cada conjunto de valores."
   ]
  },
  {
   "cell_type": "markdown",
   "metadata": {},
   "source": [
    "**Importamos librerías necesarias**"
   ]
  },
  {
   "cell_type": "code",
   "execution_count": 1,
   "metadata": {},
   "outputs": [],
   "source": [
    "import numpy as np\n",
    "import matplotlib.pyplot as plt"
   ]
  },
  {
   "cell_type": "markdown",
   "metadata": {},
   "source": [
    "**Generamos valores aleatorios de $x$ con distribución uniforme**"
   ]
  },
  {
   "cell_type": "code",
   "execution_count": 2,
   "metadata": {},
   "outputs": [],
   "source": [
    "# Generamos una semilla para obtener los mismos resultados en cada ejecución\n",
    "np.random.seed(12345)\n",
    "\n",
    "x = np.random.uniform(size=1000)"
   ]
  },
  {
   "cell_type": "markdown",
   "metadata": {},
   "source": [
    "**Evaluamos la función definida anteriormente**"
   ]
  },
  {
   "cell_type": "code",
   "execution_count": 3,
   "metadata": {},
   "outputs": [],
   "source": [
    "y = np.arccos(1 - 2 * x)"
   ]
  },
  {
   "cell_type": "markdown",
   "metadata": {},
   "source": [
    "**Ordenamos ambos conjunto de datos de manera creciente**"
   ]
  },
  {
   "cell_type": "code",
   "execution_count": 4,
   "metadata": {},
   "outputs": [],
   "source": [
    "x.sort()\n",
    "y.sort()"
   ]
  },
  {
   "cell_type": "code",
   "execution_count": 5,
   "metadata": {},
   "outputs": [
    {
     "name": "stdout",
     "output_type": "stream",
     "text": [
      "x: 0.0001072565197369757, 0.0009646077661084052, 0.0010655646281217956..., 0.9947791887923971, 0.9953161745927157, 0.9994141734640487\n",
      "y: 0.020713315003641663, 0.062126261172454095, 0.06529757482019727..., 2.9969562513342876, 3.004608618459566, 3.0931802184399695\n"
     ]
    }
   ],
   "source": [
    "print(\"x: {}, {}, {}..., {}, {}, {}\".format(*x[:3], *x[-3:]))\n",
    "print(\"y: {}, {}, {}..., {}, {}, {}\".format(*y[:3], *y[-3:]))"
   ]
  },
  {
   "cell_type": "markdown",
   "metadata": {},
   "source": [
    "**Graficamos los histogramas para ambos conjuntos de datos**"
   ]
  },
  {
   "cell_type": "code",
   "execution_count": 6,
   "metadata": {},
   "outputs": [
    {
     "data": {
      "image/png": "[encoded data removed]",
      "text/plain": [
       "<Figure size 504x216 with 2 Axes>"
      ]
     },
     "metadata": {
      "needs_background": "light"
     },
     "output_type": "display_data"
    }
   ],
   "source": [
    "fig, (ax1, ax2) = plt.subplots(nrows=1, ncols=2, sharey=True, figsize=(7,3))\n",
    "\n",
    "ax1.hist(x, density=True)\n",
    "ax2.hist(y, density=True)\n",
    "\n",
    "ax1.set_ylabel(\"Probabilidad\")\n",
    "ax1.set_xlabel(\"x\")\n",
    "ax2.set_xlabel(\"y\")\n",
    "\n",
    "plt.tight_layout()\n",
    "plt.show()"
   ]
  },
  {
   "cell_type": "markdown",
   "metadata": {},
   "source": [
    "**Calculamos la media y la desviación estándar de cada conjunto de valores**"
   ]
  },
  {
   "cell_type": "code",
   "execution_count": 7,
   "metadata": {},
   "outputs": [
    {
     "name": "stdout",
     "output_type": "stream",
     "text": [
      "Media de x: 0.5046275975777422\n",
      "Desviacion estandar de x: 0.2878030158047365\n",
      "\n",
      "Media de y: 1.5805766798732446\n",
      "Desviacion estandar de y: 0.681231042958074\n"
     ]
    }
   ],
   "source": [
    "print(\"Media de x:\", x.mean())\n",
    "print(\"Desviacion estandar de x:\", x.std())\n",
    "\n",
    "print(\"\\nMedia de y:\", y.mean())\n",
    "print(\"Desviacion estandar de y:\", y.std())"
   ]
  }
 ],
 "metadata": {
  "kernelspec": {
   "display_name": "Python 3",
   "language": "python",
   "name": "python3"
  },
  "language_info": {
   "codemirror_mode": {
    "name": "ipython",
    "version": 3
   },
   "file_extension": ".py",
   "mimetype": "text/x-python",
   "name": "python",
   "nbconvert_exporter": "python",
   "pygments_lexer": "ipython3",
   "version": "3.7.6"
  }
 },
 "nbformat": 4,
 "nbformat_minor": 4
}
