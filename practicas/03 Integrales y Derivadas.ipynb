{
 "cells": [
  {
   "cell_type": "markdown",
   "metadata": {},
   "source": [
    "# Practico 03: Integrales y Derivadas\n",
    "\n",
    "En este notebook resolveremos el tercer práctico enfocado en métodos de integración y derivación de funciones.\n",
    "\n",
    "En primer lugar, calcularemos la integral definida de la función \n",
    "\n",
    "$$ f(x) = 3 (1 - x^2) $$\n",
    "\n",
    "en el intervalo $[-1, 1]$.\n",
    "\n",
    "En segundo lugar, calcularemos la derivada numérica de la función\n",
    "\n",
    "$$ f(x) = \\frac{x^2}{2} $$\n",
    "\n",
    "en los puntos $x = 0.3, 1, 2, 5, 243,698$, utilizando valores de intervalo $h = 0.1, 0.001$.\n",
    "\n",
    "En ambos casos verificaremos que los resultados están de acuerdo con las soluciones analíticas."
   ]
  },
  {
   "cell_type": "markdown",
   "metadata": {},
   "source": [
    "**Importamos paquetes**"
   ]
  },
  {
   "cell_type": "code",
   "execution_count": 1,
   "metadata": {},
   "outputs": [],
   "source": [
    "import numpy as np\n",
    "from scipy import integrate, misc"
   ]
  },
  {
   "cell_type": "markdown",
   "metadata": {},
   "source": [
    "## Integración"
   ]
  },
  {
   "cell_type": "markdown",
   "metadata": {},
   "source": [
    "Definimos la función que aplica el método:"
   ]
  },
  {
   "cell_type": "code",
   "execution_count": 2,
   "metadata": {},
   "outputs": [],
   "source": [
    "def simpson(function, xmin, xmax, n_splits):\n",
    "    \"\"\"\n",
    "    Integrates a function applying the Simpson 1/3 rule\n",
    "    \n",
    "    Parameters\n",
    "    ----------\n",
    "    function : \n",
    "        Function to integrate\n",
    "    xmin, xmax : floats\n",
    "        Minimum and maximum values of the interval where the definite integration\n",
    "        will be carried out, respectively.\n",
    "    n_splits :  int\n",
    "        Number of divisions that will be performed on the integration interval to\n",
    "        approximate the integral. A larger value produces more accurate results,\n",
    "        but increases the computation time.\n",
    "        \n",
    "    Returns\n",
    "    -------\n",
    "    result : float\n",
    "        Result of the numerical integration\n",
    "    \"\"\"\n",
    "    # Number of splits must be an even number\n",
    "    if n_splits % 2 != 0:\n",
    "        raise ValueError(\"n_splits must be even.\")\n",
    "    # Define the values of x\n",
    "    # The total values of x are equal to the number of splits plus one\n",
    "    x = np.linspace(xmin, xmax, n_splits + 1)\n",
    "    # Appy Simpson 1/3 compact formula\n",
    "    result = (xmax - xmin) / 3 / n_splits * (\n",
    "        function(x[0])\n",
    "        + 4 * np.sum([function(xi) for xi in x[1:n_splits-1:2]])\n",
    "        + 2 * np.sum([function(xi) for xi in x[2:n_splits-2:2]])\n",
    "        + function(x[-1])\n",
    "    )\n",
    "    return result"
   ]
  },
  {
   "cell_type": "markdown",
   "metadata": {},
   "source": [
    "Definimos la función a integrar:"
   ]
  },
  {
   "cell_type": "code",
   "execution_count": 3,
   "metadata": {},
   "outputs": [],
   "source": [
    "def f(x):\n",
    "    return 3 * (1 - x**2)"
   ]
  },
  {
   "cell_type": "markdown",
   "metadata": {},
   "source": [
    "Calculamos la integral de la función en el intervalo $[-1, 1]$ utilzando 1000 divisiones."
   ]
  },
  {
   "cell_type": "code",
   "execution_count": 4,
   "metadata": {},
   "outputs": [
    {
     "name": "stdout",
     "output_type": "stream",
     "text": [
      "Resultado numérico: 3.999936096\n"
     ]
    }
   ],
   "source": [
    "n_splits = 1000\n",
    "interval = [-1.0, 1.0]\n",
    "\n",
    "numerical_result = simpson(f, *interval, n_splits)\n",
    "print(\"Resultado numérico: {}\".format(numerical_result))"
   ]
  },
  {
   "cell_type": "markdown",
   "metadata": {},
   "source": [
    "La solución analítica de la integral puede ser calculada como:"
   ]
  },
  {
   "cell_type": "code",
   "execution_count": 5,
   "metadata": {},
   "outputs": [
    {
     "name": "stdout",
     "output_type": "stream",
     "text": [
      "Solución analítica: 4.0\n"
     ]
    }
   ],
   "source": [
    "def primitive(x):\n",
    "    return 3 * x - x **3\n",
    "\n",
    "analytical = primitive(interval[1]) - primitive(interval[0])\n",
    "print(\"Solución analítica: {}\".format(analytical))"
   ]
  },
  {
   "cell_type": "markdown",
   "metadata": {},
   "source": [
    "Podemos entonces concluir que la integración numérica ha sido realizada con una precisión lo suficientemente buena."
   ]
  },
  {
   "cell_type": "markdown",
   "metadata": {},
   "source": [
    "### Integrando con SciPy\n",
    "\n",
    "Alternativamente, podemos utilizar las funciones de integración numérica disponible en SciPy, la cual reporta el resultado y una estimación del error que se comete."
   ]
  },
  {
   "cell_type": "code",
   "execution_count": 6,
   "metadata": {},
   "outputs": [
    {
     "name": "stdout",
     "output_type": "stream",
     "text": [
      "Resultado numérico con SciPy: 4.0 +/- 4.440892098500626e-14\n"
     ]
    }
   ],
   "source": [
    "result, error = integrate.quad(f, *interval)\n",
    "\n",
    "print(\"Resultado numérico con SciPy: {} +/- {}\".format(result, error))"
   ]
  },
  {
   "cell_type": "markdown",
   "metadata": {},
   "source": [
    "### Derivación"
   ]
  },
  {
   "cell_type": "markdown",
   "metadata": {},
   "source": [
    "Definimos la función que calcula la derivada numérica de una dada función en uno o más puntos."
   ]
  },
  {
   "cell_type": "code",
   "execution_count": 7,
   "metadata": {},
   "outputs": [],
   "source": [
    "def differentiate(function, x, h):\n",
    "    \"\"\"\n",
    "    Numerical derivative of a given function\n",
    "    \n",
    "    Parameters\n",
    "    ----------\n",
    "    function :\n",
    "        Function to be differentiated\n",
    "    x : float or 1d-array\n",
    "        Points where the derivative will be evaluated\n",
    "    h : float\n",
    "        Interval used to compute the numerical derivative.\n",
    "        A smaller interval produces more accurate results.\n",
    "        \n",
    "    Returns\n",
    "    -------\n",
    "    result : float or 1d-array\n",
    "        Result of the numerical differentiation\n",
    "    \"\"\"\n",
    "    return (function(x + h) - function(x - h)) / 2 / h"
   ]
  },
  {
   "cell_type": "markdown",
   "metadata": {},
   "source": [
    "Definimos la función que deseamos derivar"
   ]
  },
  {
   "cell_type": "code",
   "execution_count": 8,
   "metadata": {},
   "outputs": [],
   "source": [
    "def f(x):\n",
    "    return x ** 2 / 2"
   ]
  },
  {
   "cell_type": "markdown",
   "metadata": {},
   "source": [
    "Derivamos la función en distintos puntos para diversos valores de $h$."
   ]
  },
  {
   "cell_type": "code",
   "execution_count": 9,
   "metadata": {},
   "outputs": [
    {
     "name": "stdout",
     "output_type": "stream",
     "text": [
      "Results for h = 0.1\n",
      "x\tderivative\n",
      "0.300\t0.300\n",
      "1.000\t1.000\n",
      "2.000\t2.000\n",
      "5.000\t5.000\n",
      "243.698\t243.698\n",
      "\n",
      "Results for h = 0.001\n",
      "x\tderivative\n",
      "0.300\t0.300\n",
      "1.000\t1.000\n",
      "2.000\t2.000\n",
      "5.000\t5.000\n",
      "243.698\t243.698\n",
      "\n"
     ]
    }
   ],
   "source": [
    "x = np.array([0.3, 1, 2, 5, 243.698])\n",
    "h_values = [0.1, 0.001]\n",
    "\n",
    "for h in h_values:\n",
    "    derivative = differentiate(f, x, h)\n",
    "    print(\"Results for h =\", h)\n",
    "    print(\"x\\tderivative\")\n",
    "    for xi, df in zip(x, derivative):\n",
    "        print(\"{:.3f}\\t{:.3f}\".format(xi, df))\n",
    "    print()"
   ]
  },
  {
   "cell_type": "markdown",
   "metadata": {},
   "source": [
    "Calculemos ahora la solución analítica de la derivada de la función propuesta en los puntos seleccionados"
   ]
  },
  {
   "cell_type": "code",
   "execution_count": 10,
   "metadata": {},
   "outputs": [
    {
     "name": "stdout",
     "output_type": "stream",
     "text": [
      "Soluciones analíticas de la derivada de f(x)\n",
      "0.300\t0.300\n",
      "1.000\t1.000\n",
      "2.000\t2.000\n",
      "5.000\t5.000\n",
      "243.698\t243.698\n"
     ]
    }
   ],
   "source": [
    "def f_prima(x):\n",
    "    return x\n",
    "\n",
    "print(\"Soluciones analíticas de la derivada de f(x)\")\n",
    "for xi in x:\n",
    "    print(\"{:.3f}\\t{:.3f}\".format(xi, f_prima(xi)))\n",
    "    "
   ]
  },
  {
   "cell_type": "markdown",
   "metadata": {},
   "source": [
    "Podemos concluir que las aproximaciones numéricas son lo suficientemente buenas para ambos valores de $h$."
   ]
  },
  {
   "cell_type": "markdown",
   "metadata": {},
   "source": [
    "### Derivando con SciPy\n",
    "\n",
    "Alternativamente podemos utilizar las funciones de derivación numérica de SciPy"
   ]
  },
  {
   "cell_type": "code",
   "execution_count": 13,
   "metadata": {},
   "outputs": [
    {
     "name": "stdout",
     "output_type": "stream",
     "text": [
      "Derivadas de f(x) usando SciPy\n",
      "0.300\t0.300\n",
      "1.000\t1.000\n",
      "2.000\t2.000\n",
      "5.000\t5.000\n",
      "243.698\t243.698\n"
     ]
    }
   ],
   "source": [
    "print(\"Derivadas de f(x) usando SciPy\")\n",
    "for xi in x:\n",
    "    print(\"{:.3f}\\t{:.3f}\".format(xi, misc.derivative(f, x0=xi)))"
   ]
  }
 ],
 "metadata": {
  "kernelspec": {
   "display_name": "Python 3",
   "language": "python",
   "name": "python3"
  },
  "language_info": {
   "codemirror_mode": {
    "name": "ipython",
    "version": 3
   },
   "file_extension": ".py",
   "mimetype": "text/x-python",
   "name": "python",
   "nbconvert_exporter": "python",
   "pygments_lexer": "ipython3",
   "version": "3.7.6"
  }
 },
 "nbformat": 4,
 "nbformat_minor": 4
}
