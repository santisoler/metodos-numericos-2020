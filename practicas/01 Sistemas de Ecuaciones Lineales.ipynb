{
 "cells": [
  {
   "cell_type": "markdown",
   "metadata": {},
   "source": [
    "# Practico 01: Sistema de ecuaciones lineales\n",
    "\n",
    "En este notebook resolveremos el primer práctico enfocado en métodos de resolución de sistema de ecuaciones lineales.\n",
    "Los métodos que se implementarán y se compararán son:\n",
    "- Método de Gauss-Jordan\n",
    "- Eliminación de Gauss con backsubstitution\n",
    "- Decomposición LU\n",
    "\n",
    "Cada método será puesto a prueba con un sencillo sistema 3x3, guardando registro del tiempo de ejecución necesario para resolverlo con cada método.\n",
    "Para simplificar el cómputo, cada método ha sido implementado sin pivoteo, lo cual puede generar problemas a la hora de encontrar elementos no nulos en las diagonales de las matrices.\n",
    "Además, estas implementaciones serán comparadas con la función `numpy.linalg.solve`, la cual utiliza la decomposición LU con pivoteo de manera óptima.\n",
    "\n",
    "Finalmente, utilizaremos estas implementaciones para resolver un sistema más grande.\n"
   ]
  },
  {
   "cell_type": "markdown",
   "metadata": {},
   "source": [
    "**Importamos librerías necesarias**"
   ]
  },
  {
   "cell_type": "code",
   "execution_count": 1,
   "metadata": {},
   "outputs": [],
   "source": [
    "import numpy as np"
   ]
  },
  {
   "cell_type": "markdown",
   "metadata": {},
   "source": [
    "**Definimos el sistema 3x3 a resolver**"
   ]
  },
  {
   "cell_type": "code",
   "execution_count": 2,
   "metadata": {},
   "outputs": [],
   "source": [
    "# Matriz de coeficientes\n",
    "matrix = np.array([\n",
    "    [5, -3, 2],\n",
    "    [4, 6, -5],\n",
    "    [8, 1, -1]\n",
    "], dtype=float)\n",
    "\n",
    "# Término independiente\n",
    "independent_term = np.array([20, -2, 21], dtype=float)"
   ]
  },
  {
   "cell_type": "markdown",
   "metadata": {},
   "source": [
    "Del cual conocemos su solución"
   ]
  },
  {
   "cell_type": "code",
   "execution_count": 3,
   "metadata": {},
   "outputs": [
    {
     "name": "stdout",
     "output_type": "stream",
     "text": [
      "[20. -2. 21.]\n"
     ]
    }
   ],
   "source": [
    "true_solution = np.array([3, 1, 4], dtype=float)\n",
    "\n",
    "print(matrix @ true_solution)"
   ]
  },
  {
   "cell_type": "markdown",
   "metadata": {},
   "source": [
    "## Gauss-Jordan\n",
    "\n",
    "Definimos la función que implementa el método de Gauss-Jordan"
   ]
  },
  {
   "cell_type": "code",
   "execution_count": 4,
   "metadata": {},
   "outputs": [],
   "source": [
    "def gauss_jordan(matrix, iterm):\n",
    "    \"\"\"\n",
    "    Solves linear equations through Gauss-Jordan\n",
    "    \n",
    "    Parameters\n",
    "    ----------\n",
    "    matrix : 2d-array\n",
    "        Matrix of coefficients\n",
    "    iterm : 1d-array\n",
    "        Array with independent terms\n",
    "        \n",
    "    Returns\n",
    "    -------\n",
    "    solution : 1d-array\n",
    "        Solution array\n",
    "    \"\"\"\n",
    "    # Copy matrix and independent term to avoid overwritting them\n",
    "    matrix = matrix.copy()\n",
    "    iterm = iterm.copy()\n",
    "    # Get size of the matrix\n",
    "    n = matrix.shape[0]\n",
    "    for d in range(n):\n",
    "        # Reduce the matrix to a diagonal matrix\n",
    "        # (and also reduce the independent term)\n",
    "        for row in range(n):\n",
    "            if row != d:\n",
    "                factor = matrix[row, d] / matrix[d, d]\n",
    "                for column in range(n):\n",
    "                    matrix[row, column] -= factor * matrix[d, column]\n",
    "                iterm[row] -= factor * iterm[d]\n",
    "    # Get solution\n",
    "    return iterm / np.diag(matrix)"
   ]
  },
  {
   "cell_type": "markdown",
   "metadata": {},
   "source": [
    "Comprobamos que la implementación resuelve el sistema de manera correcta"
   ]
  },
  {
   "cell_type": "code",
   "execution_count": 5,
   "metadata": {},
   "outputs": [
    {
     "name": "stdout",
     "output_type": "stream",
     "text": [
      "Solucion: [3. 1. 4.]\n"
     ]
    }
   ],
   "source": [
    "solution = gauss_jordan(matrix, independent_term)\n",
    "\n",
    "print(\"Solucion: {}\".format(solution))\n",
    "\n",
    "assert np.allclose(solution, true_solution)"
   ]
  },
  {
   "cell_type": "markdown",
   "metadata": {},
   "source": [
    "Y calculamos el tiempo de ejecución"
   ]
  },
  {
   "cell_type": "code",
   "execution_count": 6,
   "metadata": {},
   "outputs": [
    {
     "name": "stdout",
     "output_type": "stream",
     "text": [
      "52 µs ± 3.91 µs per loop (mean ± std. dev. of 7 runs, 10000 loops each)\n"
     ]
    }
   ],
   "source": [
    "%timeit gauss_jordan(matrix, independent_term)"
   ]
  },
  {
   "cell_type": "markdown",
   "metadata": {},
   "source": [
    "## Eliminación de Gauss con Backsubstitution\n",
    "\n",
    "Definimos la función que implementa el método de Eliminación de Gauss con backsubstitution"
   ]
  },
  {
   "cell_type": "code",
   "execution_count": 7,
   "metadata": {},
   "outputs": [],
   "source": [
    "def gauss_backsubstitution(matrix, iterm):\n",
    "    \"\"\"\n",
    "    Solves linear equations through Gauss elimination with backsubstitution\n",
    "    \n",
    "    Parameters\n",
    "    ----------\n",
    "    matrix : 2d-array\n",
    "        Matrix of coefficients\n",
    "    iterm : 1d-array\n",
    "        Array with independent terms\n",
    "        \n",
    "    Returns\n",
    "    -------\n",
    "    solution : 1d-array\n",
    "        Solution array\n",
    "    \"\"\"\n",
    "    # Copy matrix and independent term to avoid overwritting them\n",
    "    matrix = matrix.copy()\n",
    "    iterm = iterm.copy()\n",
    "    # Get size of the matrix\n",
    "    n = len(iterm)\n",
    "    for d in range(n):\n",
    "        # Reduce only the matrix elements bellow the pivot\n",
    "        # (including the elements of the independent term)\n",
    "        for row in range(d + 1, n):\n",
    "            factor = matrix[row, d] / matrix[d, d]\n",
    "            for column in range(n):\n",
    "                matrix[row, column] -= factor * matrix[d, column]\n",
    "            iterm[row] -= factor * iterm[d]\n",
    "    # Perform backsubstitution\n",
    "    solution = np.zeros_like(iterm)\n",
    "    solution[-1] = iterm[-1] / matrix[-1, -1]\n",
    "    for i in reversed(range(n - 1)):\n",
    "        tmp = iterm[i]\n",
    "        for j in range(i + 1, n):\n",
    "            tmp -= matrix[i, j] * solution[j]\n",
    "        tmp /= matrix[i, i]\n",
    "        solution[i] = tmp\n",
    "    return solution"
   ]
  },
  {
   "cell_type": "markdown",
   "metadata": {},
   "source": [
    "Comprobamos que la implementación resuelve el sistema de manera correcta"
   ]
  },
  {
   "cell_type": "code",
   "execution_count": 8,
   "metadata": {},
   "outputs": [
    {
     "name": "stdout",
     "output_type": "stream",
     "text": [
      "Solucion: [3. 1. 4.]\n"
     ]
    }
   ],
   "source": [
    "solution = gauss_backsubstitution(matrix, independent_term)\n",
    "\n",
    "print(\"Solucion: {}\".format(solution))\n",
    "\n",
    "assert np.allclose(solution, true_solution)"
   ]
  },
  {
   "cell_type": "markdown",
   "metadata": {},
   "source": [
    "Y calculamos el tiempo de ejecución"
   ]
  },
  {
   "cell_type": "code",
   "execution_count": 9,
   "metadata": {},
   "outputs": [
    {
     "name": "stdout",
     "output_type": "stream",
     "text": [
      "41.2 µs ± 2.65 µs per loop (mean ± std. dev. of 7 runs, 10000 loops each)\n"
     ]
    }
   ],
   "source": [
    "%timeit gauss_backsubstitution(matrix, independent_term)"
   ]
  },
  {
   "cell_type": "markdown",
   "metadata": {},
   "source": [
    "## Decomposición LU\n",
    "\n",
    "Definimos tres funciones necesarias para resolver el sistema:\n",
    "1. La que aplica la decomposición LU, devuelve los elementos de las matrices L (lower) y U (upper),\n",
    "2. La que aplica la forward y backsubstitution para obtener la solución del sistema a partir de un arreglo del término independiente,\n",
    "3. La que obtiene la matrix LU (output de la primera función) y devuelve las dos matrices L y U."
   ]
  },
  {
   "cell_type": "code",
   "execution_count": 10,
   "metadata": {},
   "outputs": [],
   "source": [
    "def lu_decomposition(matrix):\n",
    "    \"\"\"\n",
    "    Apply LU decomposition\n",
    "    \"\"\"\n",
    "    n = matrix.shape[0]\n",
    "    lu = matrix.copy()\n",
    "    \n",
    "    for j in range(n):\n",
    "        for i in range(j + 1):\n",
    "            tmp = 0\n",
    "            for k in range(i):\n",
    "                tmp += lu[i, k] * lu[k, j]\n",
    "            lu[i, j] = matrix[i, j] - tmp\n",
    "        for i in range(j + 1, n):\n",
    "            tmp = 0\n",
    "            for k in range(j):\n",
    "                tmp += lu[i, k] * lu[k, j]\n",
    "            lu[i, j] = (matrix[i, j] - tmp) / lu[j, j]\n",
    "    return lu\n",
    "\n",
    "\n",
    "def lu_solve(lu, iterm):\n",
    "    \"\"\"\n",
    "    Solve linear equations using LU decomposed matrices\n",
    "    \"\"\"\n",
    "    n = len(iterm)\n",
    "    # Initialize the solution array as a copy of the\n",
    "    # independent term.\n",
    "    solution = iterm.copy()\n",
    "    # Apply forward substitution\n",
    "    for i in range(n):\n",
    "        for k in range(i):\n",
    "            solution[i] -= lu[i, k] * solution[k]\n",
    "    # Apply backsubstitution\n",
    "    for i in reversed(range(n)):\n",
    "        for k in range(i + 1, n):\n",
    "            solution[i] -= lu[i, k] * solution[k]\n",
    "        solution[i] = solution[i] / lu[i, i]\n",
    "    return solution\n",
    "\n",
    "\n",
    "def split_lu(lu):\n",
    "    \"\"\"\n",
    "    Split the LU matrix into L and U (lower and upper) matrices\n",
    "    \"\"\"\n",
    "    n = lu.shape[0]\n",
    "    upper = np.zeros((n, n))\n",
    "    lower = np.identity(n)\n",
    "    \n",
    "    for i in range(n):\n",
    "        for j in range(i):\n",
    "            lower[i, j] = lu[i, j]\n",
    "        for j in range(i, n):\n",
    "            upper[i, j] = lu[i, j]\n",
    "    return lower, upper"
   ]
  },
  {
   "cell_type": "markdown",
   "metadata": {},
   "source": [
    "Comprobamos que la decomposición se realiza correctamente. Para lo cual verificaremos que:\n",
    "\n",
    "$$ \\mathbf{A} = \\mathbf{L} \\mathbf{U} $$\n",
    "\n",
    "donde $\\mathbf{A}$ es la matriz de coeficientes, y $\\mathbf{L}$ y $\\mathbf{U}$ son las matrices lower y upper, respectivamente."
   ]
  },
  {
   "cell_type": "code",
   "execution_count": 11,
   "metadata": {},
   "outputs": [
    {
     "name": "stdout",
     "output_type": "stream",
     "text": [
      "Matriz de coeficientes: \n",
      "[[ 5. -3.  2.]\n",
      " [ 4.  6. -5.]\n",
      " [ 8.  1. -1.]]\n",
      "\n",
      "L · U: \n",
      "[[ 5. -3.  2.]\n",
      " [ 4.  6. -5.]\n",
      " [ 8.  1. -1.]]\n",
      "\n"
     ]
    }
   ],
   "source": [
    "lu = lu_decomposition(matrix)\n",
    "\n",
    "L, U = split_lu(lu)\n",
    "\n",
    "print(\"Matriz de coeficientes: \\n{}\\n\".format(matrix))\n",
    "print(\"L · U: \\n{}\\n\".format(L @ U))"
   ]
  },
  {
   "cell_type": "markdown",
   "metadata": {},
   "source": [
    "Comprobemos ahora que las sustituciones calculan correctamente la solución del sistema"
   ]
  },
  {
   "cell_type": "code",
   "execution_count": 12,
   "metadata": {},
   "outputs": [
    {
     "name": "stdout",
     "output_type": "stream",
     "text": [
      "Solucion: [3. 1. 4.]\n"
     ]
    }
   ],
   "source": [
    "solution = lu_solve(lu, independent_term)\n",
    "\n",
    "print(\"Solucion: {}\".format(solution))\n",
    "\n",
    "assert np.allclose(solution, true_solution)"
   ]
  },
  {
   "cell_type": "markdown",
   "metadata": {},
   "source": [
    "Y calculamos el tiempo de ejecución"
   ]
  },
  {
   "cell_type": "code",
   "execution_count": 13,
   "metadata": {},
   "outputs": [
    {
     "name": "stdout",
     "output_type": "stream",
     "text": [
      "39.8 µs ± 2.77 µs per loop (mean ± std. dev. of 7 runs, 10000 loops each)\n"
     ]
    }
   ],
   "source": [
    "%timeit lu = lu_decomposition(matrix); lu_solve(lu, independent_term)"
   ]
  },
  {
   "cell_type": "markdown",
   "metadata": {},
   "source": [
    "## Resolución con Numpy"
   ]
  },
  {
   "cell_type": "markdown",
   "metadata": {},
   "source": [
    "Comprobemos ahora que la implementación que ofrece Numpy es mucho más eficientes que las aquí presentes, además de que incorpora pivoteo para prevenir divisiones por cero."
   ]
  },
  {
   "cell_type": "code",
   "execution_count": 14,
   "metadata": {},
   "outputs": [
    {
     "name": "stdout",
     "output_type": "stream",
     "text": [
      "19.7 µs ± 1.12 µs per loop (mean ± std. dev. of 7 runs, 100000 loops each)\n"
     ]
    }
   ],
   "source": [
    "%timeit np.linalg.solve(matrix, independent_term)"
   ]
  },
  {
   "cell_type": "markdown",
   "metadata": {},
   "source": [
    "## Conclusiones\n",
    "\n",
    "Los resultados obtenidos muestran que:\n",
    "- Los tres métodos son capaces de resolver correctamente el sistema de ecuaciones.\n",
    "- Gauss-Jordan requiere más tiempo de ejecución que la eliminación de Gauss con backsubstitution, haciendo a esta última efectivamente más eficiente.\n",
    "- La resolución del sisteam a través de la decomposición LU se realiza en aproximadamente el mismo tiempo que la eliminación de Gauss. Sin embargo, la decomposición LU nos permitiría resolver cualquier sistema que posea la misma matriz de coeficientes pero diferentes términos independientes más rápido, ya que la decomposición de la matriz debería realizarse una única vez."
   ]
  },
  {
   "cell_type": "markdown",
   "metadata": {},
   "source": [
    "## Problema NxN\n",
    "\n",
    "Apliquemos los métodos implementados para resolver un sistema más grande.\n",
    "Construiremos la matriz de coeficientes y la solución eligiendo enteros de manera aleatoria.\n",
    "El término independiente lo calcularemos a partir de estas dos."
   ]
  },
  {
   "cell_type": "code",
   "execution_count": 15,
   "metadata": {},
   "outputs": [
    {
     "name": "stdout",
     "output_type": "stream",
     "text": [
      "Matriz de coeficientes: \n",
      "[[ 14.  17.   9. ... -12. -15.  14.]\n",
      " [-15.  -1.  -8. ... -15.  20.   0.]\n",
      " [-13. -15.  -2. ... -15. -18.  -1.]\n",
      " ...\n",
      " [ -4.  -6. -16. ...   8.   9.   1.]\n",
      " [-12.  20. -19. ... -20.  -5. -19.]\n",
      " [-17.  -3. -12. ...  13.   2.  -4.]]\n",
      "\n",
      "Vector de soluciones: \n",
      "[ 33. -44. -92.  74.  -9. -86. -74. -80. -91. -76.  24.  -8. -63. -49.\n",
      "   9.  72.  -7. -65. -27.  26. -18.  98. -81.  49.  25.  90. -30.  59.\n",
      "  19.  49.   5.  67. -23.  33. -48.   8. -87.   2.  47. -68.]\n",
      "\n",
      "Término independiente: \n",
      "[ -6737.   -258.   -165.   5683.  -3354.   1259.  -3150.   4143.   4536.\n",
      "  -5148.   -604.  -3701.  -1177.   2159.  -5415.  -1766.   5275.  -2230.\n",
      "   1324.   4060.   2665.  -1187.   1092.  -1668.   3047.   -571.   3814.\n",
      "  -5161.  -3719.  -4066.   3175. -11290.   4036.    -29.   1398.  -3740.\n",
      "   3676.  -2795.   7406.  -2330.]\n",
      "\n"
     ]
    }
   ],
   "source": [
    "# Definimos tamaño del sistema, máximos valores de coeficientes y de la solución\n",
    "size = 40\n",
    "maxabs_coef = 20\n",
    "maxabs_solution = 100\n",
    "\n",
    "# Definimos una semilla para obtener el mismo sistema cada vez que se ejecute\n",
    "np.random.seed(12345)\n",
    "\n",
    "# Calculamos la matriz de coeficientes\n",
    "matrix = np.random.randint(\n",
    "    low=-maxabs_coef, high=maxabs_coef + 1, size=size**2\n",
    ").reshape((size, size)).astype(float)\n",
    "\n",
    "# Calculamos el arreglo de soluciones\n",
    "true_solution = np.random.randint(\n",
    "    low=-maxabs_solution, high=maxabs_solution + 1, size=size\n",
    ").astype(float)\n",
    "\n",
    "# Calculamos el término independiente como A·x\n",
    "independent_term = matrix @ true_solution\n",
    "\n",
    "print(\"Matriz de coeficientes: \\n{}\\n\".format(matrix))\n",
    "print(\"Vector de soluciones: \\n{}\\n\".format(true_solution))\n",
    "print(\"Término independiente: \\n{}\\n\".format(independent_term))"
   ]
  },
  {
   "cell_type": "markdown",
   "metadata": {},
   "source": [
    "Corroboremos que cada método resuelve correctamente el sistema, y registremos el tiempo de resolución"
   ]
  },
  {
   "cell_type": "code",
   "execution_count": 16,
   "metadata": {},
   "outputs": [
    {
     "name": "stdout",
     "output_type": "stream",
     "text": [
      "Solucion: \n",
      "[ 33. -44. -92.  74.  -9. -86. -74. -80. -91. -76.  24.  -8. -63. -49.\n",
      "   9.  72.  -7. -65. -27.  26. -18.  98. -81.  49.  25.  90. -30.  59.\n",
      "  19.  49.   5.  67. -23.  33. -48.   8. -87.   2.  47. -68.]\n",
      "65.1 ms ± 1.78 ms per loop (mean ± std. dev. of 7 runs, 10 loops each)\n"
     ]
    }
   ],
   "source": [
    "solution = gauss_jordan(matrix, independent_term)\n",
    "\n",
    "print(\"Solucion: \\n{}\".format(solution))\n",
    "\n",
    "assert np.allclose(solution, true_solution)\n",
    "\n",
    "%timeit gauss_jordan(matrix, independent_term)"
   ]
  },
  {
   "cell_type": "code",
   "execution_count": 17,
   "metadata": {},
   "outputs": [
    {
     "name": "stdout",
     "output_type": "stream",
     "text": [
      "Solucion: \n",
      "[ 33. -44. -92.  74.  -9. -86. -74. -80. -91. -76.  24.  -8. -63. -49.\n",
      "   9.  72.  -7. -65. -27.  26. -18.  98. -81.  49.  25.  90. -30.  59.\n",
      "  19.  49.   5.  67. -23.  33. -48.   8. -87.   2.  47. -68.]\n",
      "37.8 ms ± 6.79 ms per loop (mean ± std. dev. of 7 runs, 10 loops each)\n"
     ]
    }
   ],
   "source": [
    "solution = gauss_backsubstitution(matrix, independent_term)\n",
    "\n",
    "print(\"Solucion: \\n{}\".format(solution))\n",
    "\n",
    "assert np.allclose(solution, true_solution)\n",
    "\n",
    "%timeit gauss_backsubstitution(matrix, independent_term)"
   ]
  },
  {
   "cell_type": "code",
   "execution_count": 18,
   "metadata": {},
   "outputs": [
    {
     "name": "stdout",
     "output_type": "stream",
     "text": [
      "Solucion: \n",
      "[ 33. -44. -92.  74.  -9. -86. -74. -80. -91. -76.  24.  -8. -63. -49.\n",
      "   9.  72.  -7. -65. -27.  26. -18.  98. -81.  49.  25.  90. -30.  59.\n",
      "  19.  49.   5.  67. -23.  33. -48.   8. -87.   2.  47. -68.]\n",
      "23.9 ms ± 5.54 ms per loop (mean ± std. dev. of 7 runs, 10 loops each)\n"
     ]
    }
   ],
   "source": [
    "lu = lu_decomposition(matrix)\n",
    "solution = lu_solve(lu, independent_term)\n",
    "\n",
    "print(\"Solucion: \\n{}\".format(solution))\n",
    "\n",
    "assert np.allclose(solution, true_solution)\n",
    "\n",
    "%timeit lu = lu_decomposition(matrix); lu_solve(lu, independent_term)"
   ]
  },
  {
   "cell_type": "markdown",
   "metadata": {},
   "source": [
    "Comparemos con la función de Numpy"
   ]
  },
  {
   "cell_type": "code",
   "execution_count": 19,
   "metadata": {},
   "outputs": [
    {
     "name": "stdout",
     "output_type": "stream",
     "text": [
      "The slowest run took 9.21 times longer than the fastest. This could mean that an intermediate result is being cached.\n",
      "256 µs ± 196 µs per loop (mean ± std. dev. of 7 runs, 1000 loops each)\n"
     ]
    }
   ],
   "source": [
    "%timeit np.linalg.solve(matrix, independent_term)"
   ]
  }
 ],
 "metadata": {
  "kernelspec": {
   "display_name": "Python 3",
   "language": "python",
   "name": "python3"
  },
  "language_info": {
   "codemirror_mode": {
    "name": "ipython",
    "version": 3
   },
   "file_extension": ".py",
   "mimetype": "text/x-python",
   "name": "python",
   "nbconvert_exporter": "python",
   "pygments_lexer": "ipython3",
   "version": "3.7.6"
  }
 },
 "nbformat": 4,
 "nbformat_minor": 4
}
