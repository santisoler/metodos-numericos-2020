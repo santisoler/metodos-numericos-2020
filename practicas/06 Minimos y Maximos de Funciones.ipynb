{
 "cells": [
  {
   "cell_type": "markdown",
   "metadata": {},
   "source": [
    "# Práctico 6: Mínimos y Máximos de Funciones\n",
    "\n",
    "En este notebook resolveremos el sexto práctico enfocado en la obtención de mínimos y máximos de funciones.\n",
    "\n",
    "El objetivo es obtener el mínimo de la función\n",
    "\n",
    "$$ f(x) = (5x^2 + 3x - 2) \\cos\\left(\\frac{x}{2\\pi}\\right) e^{x} $$\n",
    "\n",
    "en el intervalo $x \\in (-0.5, 0.5)$ a través de los siguientes métodos:\n",
    "\n",
    "- sección dorada,\n",
    "- Brent.\n",
    "\n",
    "El mínimo de la función se encuentra en $x = -0.079$."
   ]
  },
  {
   "cell_type": "markdown",
   "metadata": {},
   "source": [
    "Importamos librerías necesarias"
   ]
  },
  {
   "cell_type": "code",
   "execution_count": 1,
   "metadata": {},
   "outputs": [],
   "source": [
    "import numpy as np\n",
    "import matplotlib.pyplot as plt\n",
    "from scipy.optimize import minimize_scalar"
   ]
  },
  {
   "cell_type": "markdown",
   "metadata": {},
   "source": [
    "Definimos la función a analizar"
   ]
  },
  {
   "cell_type": "code",
   "execution_count": 2,
   "metadata": {},
   "outputs": [],
   "source": [
    "def f(x):\n",
    "    return (5 * x ** 2 + 3 * x - 2) * np.cos(x / 2 / np.pi) * np.exp(x)"
   ]
  },
  {
   "cell_type": "code",
   "execution_count": 3,
   "metadata": {},
   "outputs": [
    {
     "data": {
      "image/png": "[encoded data removed]",
      "text/plain": [
       "<Figure size 432x288 with 1 Axes>"
      ]
     },
     "metadata": {
      "needs_background": "light"
     },
     "output_type": "display_data"
    }
   ],
   "source": [
    "x = np.linspace(-0.5, 0.5, 51)\n",
    "plt.plot(x, f(x))\n",
    "plt.grid()\n",
    "plt.show()"
   ]
  },
  {
   "cell_type": "markdown",
   "metadata": {},
   "source": [
    "## Método de la Sección Dorada\n",
    "\n",
    "Aplicamos el método de la sección dorada a través de la función `scipy.optimize.minimize_scalar`, especificando que deseamos utilizar el método `golden`."
   ]
  },
  {
   "cell_type": "code",
   "execution_count": 4,
   "metadata": {},
   "outputs": [
    {
     "data": {
      "text/plain": [
       "     fun: -2.038081539714693\n",
       "    nfev: 46\n",
       "     nit: 41\n",
       " success: True\n",
       "       x: -0.07898294690895766"
      ]
     },
     "execution_count": 4,
     "metadata": {},
     "output_type": "execute_result"
    }
   ],
   "source": [
    "result = minimize_scalar(f, bracket=(-0.5, 0, 0.5), method=\"golden\")\n",
    "result"
   ]
  },
  {
   "cell_type": "code",
   "execution_count": 5,
   "metadata": {},
   "outputs": [
    {
     "name": "stdout",
     "output_type": "stream",
     "text": [
      "El mínimo de la función se encuentra en x_min = -0.07898294690895766\n",
      "La función asume el siguiente valor en el mínimo f(x_min) = -2.038081539714693\n"
     ]
    }
   ],
   "source": [
    "print(\"El mínimo de la función se encuentra en x_min = {}\".format(result.x))\n",
    "print(\"La función asume el siguiente valor en el mínimo f(x_min) = {}\".format(result.fun))"
   ]
  },
  {
   "cell_type": "markdown",
   "metadata": {},
   "source": [
    "## Método de Brent\n",
    "\n",
    "Aplicamos el método de Brent a través de la función `scipy.optimize.minimize_scalar`, especificando que deseamos utilizar el método `brent`."
   ]
  },
  {
   "cell_type": "code",
   "execution_count": 6,
   "metadata": {},
   "outputs": [
    {
     "data": {
      "text/plain": [
       "     fun: -2.038081539714693\n",
       "    nfev: 21\n",
       "     nit: 17\n",
       " success: True\n",
       "       x: -0.07898294471993406"
      ]
     },
     "execution_count": 6,
     "metadata": {},
     "output_type": "execute_result"
    }
   ],
   "source": [
    "result = minimize_scalar(f, bracket=(-0.5, 0, 0.5), method=\"brent\")\n",
    "result"
   ]
  },
  {
   "cell_type": "code",
   "execution_count": 7,
   "metadata": {},
   "outputs": [
    {
     "name": "stdout",
     "output_type": "stream",
     "text": [
      "El mínimo de la función se encuentra en x_min = -0.07898294471993406\n",
      "La función asume el siguiente valor en el mínimo f(x_min) = -2.038081539714693\n"
     ]
    }
   ],
   "source": [
    "print(\"El mínimo de la función se encuentra en x_min = {}\".format(result.x))\n",
    "print(\"La función asume el siguiente valor en el mínimo f(x_min) = {}\".format(result.fun))"
   ]
  },
  {
   "cell_type": "markdown",
   "metadata": {},
   "source": [
    "## Conclusiones\n",
    "\n",
    "- Ambos métodos arriban correctamente al mínimo de la función en el intervalo propuesto.\n",
    "- El método de Brent lo hace de manera más eficiente en un total de 17 iteraciones, mientras que el de la sección dorada necesita 41 iteraciones."
   ]
  }
 ],
 "metadata": {
  "kernelspec": {
   "display_name": "Python 3",
   "language": "python",
   "name": "python3"
  },
  "language_info": {
   "codemirror_mode": {
    "name": "ipython",
    "version": 3
   },
   "file_extension": ".py",
   "mimetype": "text/x-python",
   "name": "python",
   "nbconvert_exporter": "python",
   "pygments_lexer": "ipython3",
   "version": "3.7.6"
  }
 },
 "nbformat": 4,
 "nbformat_minor": 4
}
